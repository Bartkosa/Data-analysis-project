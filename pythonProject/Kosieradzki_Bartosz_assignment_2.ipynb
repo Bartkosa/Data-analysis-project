{
  "cells": [
    {
      "cell_type": "markdown",
      "metadata": {
        "id": "88scG8YJJz1H"
      },
      "source": [
        "## Bartosz Kosieradzki\n",
        "#### 2023-01-07\n",
        "\n",
        "## Introduction\n",
        "\n",
        "This report provides a detailed analysis of the solutions to assignment number 2 in course Data Processing in R and Python. The report includes description of the solutions and comparison of correctness. Each query from the assignment is discussed in detail in each subsection in the report. For comparing results there is used .equals() function.\n",
        "\n",
        "At first I there are imported csv files and the conntection with database is made to read sql queries."
      ]
    },
    {
      "cell_type": "code",
      "execution_count": 66,
      "metadata": {
        "pycharm": {
          "is_executing": true
        },
        "id": "P0lGGnvGJz1E"
      },
      "outputs": [],
      "source": [
        "import numpy as np\n",
        "import pandas as pd\n",
        "import os.path\n",
        "import sqlite3\n",
        "import tempfile\n",
        "\n",
        "from Kosieradzki_Bartosz_assignment_2 import *\n",
        "\n",
        "Posts = pd.read_csv(r\"Posts.csv\")\n",
        "Badges = pd.read_csv(r\"Badges.csv\")\n",
        "Comments = pd.read_csv(r\"Comments.csv\")\n",
        "Users = pd.read_csv(r\"Users.csv\")\n",
        "Votes = pd.read_csv(r\"Votes.csv\")\n",
        "\n",
        "baza = os.path.join(tempfile.mkdtemp(), 'example.db')\n",
        "if os.path.isfile(baza):\n",
        "    os.remove(baza)\n",
        "\n",
        "conn = sqlite3.connect(baza)\n",
        "\n",
        "Badges.to_sql(\"Badges\", conn)\n",
        "Comments.to_sql(\"Comments\", conn)\n",
        "Posts.to_sql(\"Posts\", conn)\n",
        "Users.to_sql(\"Users\", conn)\n",
        "Votes.to_sql(\"Votes\", conn)\n",
        "\n",
        "res1 = pd.read_sql_query(\"\"\"\n",
        "                        SELECT STRFTIME('%Y', CreationDate) AS Year, COUNT(*) AS TotalNumber\n",
        "                           FROM Posts\n",
        "                           GROUP BY Year\n",
        "                        \"\"\", conn)\n",
        "\n",
        "res2 = pd.read_sql_query(\"\"\"\n",
        "                                    SELECT Id, DisplayName, SUM(ViewCount) AS TotalViews\n",
        "                                    FROM Users\n",
        "                                    JOIN (\n",
        "                                    SELECT OwnerUserId, ViewCount FROM Posts WHERE PostTypeId = 1\n",
        "                                    ) AS Questions\n",
        "                                    ON Users.Id = Questions.OwnerUserId\n",
        "                                    GROUP BY Id\n",
        "                                    ORDER BY TotalViews DESC\n",
        "                                    LIMIT 10\n",
        "                                    \"\"\", conn)\n",
        "\n",
        "res3 = pd.read_sql_query(\"\"\"\n",
        "                                    SELECT Year, Name, MAX((Count * 1.0) / CountTotal) AS MaxPercentage\n",
        "                                    FROM (\n",
        "                                    SELECT BadgesNames.Year, BadgesNames.Name, BadgesNames.Count, BadgesYearly.CountTotal\n",
        "                                    FROM (\n",
        "                                    SELECT Name, COUNT(*) AS Count, STRFTIME('%Y', Badges.Date) AS Year\n",
        "                                    FROM Badges\n",
        "                                    GROUP BY Name, Year\n",
        "                                    ) AS BadgesNames\n",
        "                                    JOIN (\n",
        "                                    SELECT COUNT(*) AS CountTotal, STRFTIME('%Y', Badges.Date) AS Year\n",
        "                                    FROM Badges\n",
        "                                    GROUP BY YEAR\n",
        "                                    ) AS BadgesYearly\n",
        "                                    ON BadgesNames.Year = BadgesYearly.Year\n",
        "                                    )\n",
        "                                    GROUP BY Year\n",
        "                                    \"\"\", conn)\n",
        "\n",
        "res4 = pd.read_sql_query(\"\"\"\n",
        "                                    SELECT Title, CommentCount, ViewCount, CommentsTotalScore, DisplayName, Reputation, Location\n",
        "                                    FROM (\n",
        "                                    SELECT Posts.OwnerUserId, Posts.Title, Posts.CommentCount, Posts.ViewCount,\n",
        "                                    CmtTotScr.CommentsTotalScore\n",
        "                                    FROM (\n",
        "                                    SELECT PostId, SUM(Score) AS CommentsTotalScore\n",
        "                                    FROM Comments\n",
        "                                    GROUP BY PostId\n",
        "                                    ) AS CmtTotScr\n",
        "                                    JOIN Posts ON Posts.Id = CmtTotScr.PostId\n",
        "                                    WHERE Posts.PostTypeId=1\n",
        "                                    ) AS PostsBestComments\n",
        "                                    JOIN Users ON PostsBestComments.OwnerUserId = Users.Id\n",
        "                                    ORDER BY CommentsTotalScore DESC LIMIT 10\n",
        "                                    \"\"\", conn)\n",
        "\n",
        "res5 = pd.read_sql_query(\"\"\"\n",
        "                                        SELECT Posts.Title, STRFTIME('%Y-%m-%d', Posts.CreationDate) AS Date, VotesByAge.*\n",
        "                                        FROM Posts\n",
        "                                        JOIN (\n",
        "                                        SELECT PostId,\n",
        "                                        MAX(CASE WHEN VoteDate = 'before' THEN Total ELSE 0 END) BeforeCOVIDVotes,\n",
        "                                        MAX(CASE WHEN VoteDate = 'during' THEN Total ELSE 0 END) DuringCOVIDVotes,\n",
        "                                        MAX(CASE WHEN VoteDate = 'after' THEN Total ELSE 0 END) AfterCOVIDVotes,\n",
        "                                        SUM(Total) AS Votes\n",
        "                                        FROM (\n",
        "                                        SELECT PostId,\n",
        "                                        CASE STRFTIME('%Y', CreationDate)\n",
        "                                        WHEN '2022' THEN 'after'\n",
        "                                        WHEN '2021' THEN 'during'\n",
        "                                        WHEN '2020' THEN 'during'\n",
        "                                        WHEN '2019' THEN 'during'\n",
        "                                        ELSE 'before'\n",
        "                                        END VoteDate, COUNT(*) AS Total\n",
        "                                        FROM Votes\n",
        "                                        WHERE VoteTypeId IN (3, 4, 12)\n",
        "                                        GROUP BY PostId, VoteDate\n",
        "                                        ) AS VotesDates\n",
        "                                        GROUP BY VotesDates.PostId\n",
        "                                        ) AS VotesByAge ON Posts.Id = VotesByAge.PostId\n",
        "                                        WHERE Title NOT IN ('') AND DuringCOVIDVotes > 0\n",
        "                                        ORDER BY DuringCOVIDVotes DESC, Votes DESC\n",
        "                                        LIMIT 20\n",
        "                                        \"\"\", conn)\n",
        "\n",
        "\n",
        "conn.close()"
      ]
    },
    {
      "cell_type": "markdown",
      "source": [
        "### Query 1\n",
        "\n",
        "The first query in the assignment asks for the number of posts made in each year. The resulting output should be a list of years and the corresponding number of posts made in each year. \n",
        "\n",
        "#### Equivalence test"
      ],
      "metadata": {
        "id": "24IhdbH2sz7d"
      }
    },
    {
      "cell_type": "code",
      "source": [
        "solution_1(Posts).equals(res1)"
      ],
      "metadata": {
        "colab": {
          "base_uri": "https://localhost:8080/"
        },
        "id": "_n3nUBsRq0Pi",
        "outputId": "94855e2e-d2ce-41f6-99c6-b03b4835eb32"
      },
      "execution_count": 67,
      "outputs": [
        {
          "output_type": "execute_result",
          "data": {
            "text/plain": [
              "True"
            ]
          },
          "metadata": {},
          "execution_count": 67
        }
      ]
    },
    {
      "cell_type": "markdown",
      "source": [
        "### Query 2\n",
        "\n",
        "The second query returns the id and name of the top 10 authors of posts from table Users who have the most views on their posts.\n",
        "\n",
        "#### Equivalence test"
      ],
      "metadata": {
        "id": "qUtd1kgftPRy"
      }
    },
    {
      "cell_type": "code",
      "source": [
        "solution_2(Users, Posts).equals(res2)"
      ],
      "metadata": {
        "colab": {
          "base_uri": "https://localhost:8080/"
        },
        "id": "uCpJzBe2q0fL",
        "outputId": "f28ec3e3-b14c-4509-f17f-cfa8c637f833"
      },
      "execution_count": 68,
      "outputs": [
        {
          "output_type": "execute_result",
          "data": {
            "text/plain": [
              "True"
            ]
          },
          "metadata": {},
          "execution_count": 68
        }
      ]
    },
    {
      "cell_type": "markdown",
      "source": [
        "### Query 3\n",
        "\n",
        "The third query for each year returns the most commonly awarded badge and how frequent it was.\n",
        "\n",
        "#### Equivalence test"
      ],
      "metadata": {
        "id": "cU3zwceOtRp_"
      }
    },
    {
      "cell_type": "code",
      "source": [
        "solution_3(Badges).equals(res3)"
      ],
      "metadata": {
        "colab": {
          "base_uri": "https://localhost:8080/"
        },
        "id": "bLS6skPvq0mK",
        "outputId": "ae6abc1a-8139-4513-fc75-a97842983ee6"
      },
      "execution_count": 69,
      "outputs": [
        {
          "output_type": "execute_result",
          "data": {
            "text/plain": [
              "True"
            ]
          },
          "metadata": {},
          "execution_count": 69
        }
      ]
    },
    {
      "cell_type": "markdown",
      "source": [
        "### Query 4\n",
        "\n",
        "The fourth query provides a list of the top 10 posts with the highest cumulative comments score, along with detailed information for each post, including the title, the total number of comments, the number of views, the name of the author, location and their reputation. \n",
        "\n",
        "#### Equivalence test"
      ],
      "metadata": {
        "id": "vfz-SJMMtVeM"
      }
    },
    {
      "cell_type": "code",
      "source": [
        "solution_4(Comments, Posts, Users).equals(res4)"
      ],
      "metadata": {
        "colab": {
          "base_uri": "https://localhost:8080/"
        },
        "id": "p-EczSC7q0s7",
        "outputId": "b8116010-85af-40f6-cdd0-10fea42bee69"
      },
      "execution_count": 70,
      "outputs": [
        {
          "output_type": "execute_result",
          "data": {
            "text/plain": [
              "True"
            ]
          },
          "metadata": {},
          "execution_count": 70
        }
      ]
    },
    {
      "cell_type": "markdown",
      "source": [
        "### Query 5\n",
        "\n",
        "The fifth query calculates the number of votes each post received before, during, and after COVID-19. It filters out posts that did not receive any votes during COVID-19, and orders the results by the number of during-COVID votes and total votes, showing the top 20 posts, along with its title, date, id, number of votes before COVID, during COVID, after COVID and the total number of votes.\n",
        "\n",
        "#### Equivalence test"
      ],
      "metadata": {
        "id": "0eKg0WhmtYah"
      }
    },
    {
      "cell_type": "code",
      "execution_count": 71,
      "metadata": {
        "colab": {
          "base_uri": "https://localhost:8080/"
        },
        "id": "u2Mcy7dDJz1K",
        "outputId": "66472abe-f6c1-4510-dd32-b55939e0f81a"
      },
      "outputs": [
        {
          "output_type": "execute_result",
          "data": {
            "text/plain": [
              "True"
            ]
          },
          "metadata": {},
          "execution_count": 71
        }
      ],
      "source": [
        "solution_5(Posts, Votes).equals(res5)"
      ]
    },
    {
      "cell_type": "markdown",
      "source": [
        "### Summary\n",
        "\n",
        "In summary, all solutions from sql matched their equivalent solutions in pandas, which was sometimes difficult because of non-matching data types. "
      ],
      "metadata": {
        "id": "DFHLwr0AvtXg"
      }
    }
  ],
  "metadata": {
    "kernelspec": {
      "display_name": "Python 3 (ipykernel)",
      "language": "python",
      "name": "python3"
    },
    "language_info": {
      "codemirror_mode": {
        "name": "ipython",
        "version": 3
      },
      "file_extension": ".py",
      "mimetype": "text/x-python",
      "name": "python",
      "nbconvert_exporter": "python",
      "pygments_lexer": "ipython3",
      "version": "3.9.13"
    },
    "colab": {
      "provenance": []
    }
  },
  "nbformat": 4,
  "nbformat_minor": 0
}